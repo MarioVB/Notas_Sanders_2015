{
 "cells": [
  {
   "cell_type": "markdown",
   "metadata": {},
   "source": [
    "# Métodos de Monte Carlo"
   ]
  },
  {
   "cell_type": "markdown",
   "metadata": {},
   "source": [
    "El término \"método de Monte Carlo\" se aplica en general a cualquier método numérico que emplea números aleatorios. Una clase importante de métodos de este tipo se utiliza para calcular integrales de distintas índoles."
   ]
  },
  {
   "cell_type": "markdown",
   "metadata": {},
   "source": [
    "# Calcular $\\pi$"
   ]
  },
  {
   "cell_type": "markdown",
   "metadata": {},
   "source": [
    "¿Cómo podemos calcular $\\pi$ numéricamente? Por supuesto Julia tiene eso integrado: al teclear `\\pi<TAB>`, produce π, y nos dice"
   ]
  },
  {
   "cell_type": "code",
   "execution_count": 2,
   "metadata": {
    "collapsed": false
   },
   "outputs": [
    {
     "data": {
      "text/plain": [
       "π = 3.1415926535897..."
      ]
     },
     "execution_count": 2,
     "metadata": {},
     "output_type": "execute_result"
    }
   ],
   "source": [
    "π"
   ]
  },
  {
   "cell_type": "markdown",
   "metadata": {},
   "source": [
    "[1] Esto es un objeto de un tipo especial en Julia --chécalo con `typeof`."
   ]
  },
  {
   "cell_type": "markdown",
   "metadata": {},
   "source": [
    "Pero de no conocer el valor de $\\pi$ (que alguien calculó una vez), ¿cómo lo podríamos calcular?"
   ]
  },
  {
   "cell_type": "markdown",
   "metadata": {},
   "source": [
    "[2] Piensa en varias definiciones y propiedades de $\\pi$. ¿Cuáles se podrían utilizar para calcular $\\pi$? ¡Hazlo!"
   ]
  },
  {
   "cell_type": "markdown",
   "metadata": {},
   "source": [
    "Una definición de $\\pi$ es la razón entre la circunferencia $C$ de un círculo y su diámetro, o sea $C = 2\\pi r$."
   ]
  },
  {
   "cell_type": "markdown",
   "metadata": {},
   "source": [
    "[3] Utiliza esto para mostrar que el *área* de un círculo es $\\pi r^2$. [Pista: cuál es la relación entre el área de un disco y su circunferencia?]"
   ]
  },
  {
   "cell_type": "markdown",
   "metadata": {},
   "source": [
    "Utilizaremos esto con un método de Monte Carlo para determinar $\\pi$."
   ]
  },
  {
   "cell_type": "markdown",
   "metadata": {},
   "source": [
    "[4] Dibuja un círculo de radio $r=1$. Dibuja un cuadrado que lo contiene. Genera muchos puntos distribuidos uniformemente en el cuadrado y dibújalos. Utiliza esto para determinar el área del círculo, y de ahí el valor de $\\pi$."
   ]
  },
  {
   "cell_type": "markdown",
   "metadata": {},
   "source": [
    "# Cálculo de integrales"
   ]
  },
  {
   "cell_type": "markdown",
   "metadata": {},
   "source": [
    "Este tipo de métodos se pueden ocupar para calcular integrales complicadas que serían difíciles o imposibles de evaluar con otros métodos. Por ejemplo:\n",
    "\n",
    "[5] Considera la función complicada (patológica) $$f(x) = \\sin^2 (\\textstyle \\frac{1}{x}).$$\n",
    "\n",
    "(i) Dibuja la función para $x$ entre $-2$ y $2$.\n",
    "\n",
    "(ii) Sea $I(x) := \\int_0^x f(x') dx'$. Sabemos que $0 < I(x) < x$ para toda $x$, pero no está fácil calcular su valor, ni siquiera con métodos numéricos estándares, debido a la naturaleza complicada de la función cerca de $x = 0$.\n",
    "\n",
    "Utiliza un método parecido al que usamos para calcular $\\pi$ para calcular $I(x)$ para un valor de $x$ dado. Dibuja la función $I(x)$."
   ]
  },
  {
   "cell_type": "markdown",
   "metadata": {},
   "source": [
    "# Decaimiento radioactivo"
   ]
  },
  {
   "cell_type": "markdown",
   "metadata": {},
   "source": [
    "Otra clase grande de métodos de Monte Carlo son procesos estocásticos; ya hemos visto caminatas aleatorias. Consideremos ahora el decaimiento radioactivo. \n",
    "\n",
    "El decaimiento radioactivo se suele modelar con la ecuación famosa\n",
    "\n",
    "$$\\frac{dN(t)}{dt} = -\\lambda N(t),$$\n",
    "\n",
    "donde $N(t)$ es el número de núcleos radioactivos al tiempo $t$, y $\\lambda$ es un misterioso \"tasa de decaimiento\".\n",
    "Aparentemente, se supone que es evidente para todo mundo de dónde viene esta ecuación o por qué es válida. [No lo es para mí...]\n",
    "\n",
    "Esto es una visión *macroscópica*. Podemos pensar más bien *microscópicamente*: ¿cuándo decaerá cada núcleo individual?"
   ]
  },
  {
   "cell_type": "markdown",
   "metadata": {},
   "source": [
    "[6] Para facilitar las cosas, pensemos en el caso con tiempo discreto. Supón que hay $N_0$ núcleos inicialmente y que en cada paso, cada núcleo tiene probabilidad $p$ de decaer.\n",
    "\n",
    "(i) Programa esto y dibuja la función $N(t)$ resultante como función del tiempo, para distintas corridas en una sola gráfica. Calcula el promedio en un tiempo dado sobre un ensamble de experimentos. También cambia el valor de $p$. \n",
    "\n",
    "(ii) ¿Qué observas? \n",
    "\n",
    "(iii) ¿Cómo se puede calcular la tasa de decaimiento si consideras que cada \"paso\" de tiempo dura un tiempo pequeño $\\delta t$?\n",
    "\n",
    "(iv) ¿Cómo se relaciona esto con la visión determinista macroscópica (la ecuación diferencial)?"
   ]
  }
 ],
 "metadata": {
  "kernelspec": {
   "display_name": "Julia 0.4.1",
   "language": "julia",
   "name": "julia-0.4"
  },
  "language_info": {
   "file_extension": ".jl",
   "mimetype": "application/julia",
   "name": "julia",
   "version": "0.4.1"
  }
 },
 "nbformat": 4,
 "nbformat_minor": 0
}
