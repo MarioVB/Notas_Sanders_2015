{
 "cells": [
  {
   "cell_type": "markdown",
   "metadata": {},
   "source": [
    "# Tarea 9\n",
    "\n",
    "## Entrega: miércoles, 28 de octubre de 2015"
   ]
  },
  {
   "cell_type": "markdown",
   "metadata": {},
   "source": [
    "[Debido a un error en el planteamiento de la tarea 8, de la tarea 8 sólo se tomará en cuenta la pregunta 1. Aquí se replantea la pregunta 2 de la tarea 8.]"
   ]
  },
  {
   "cell_type": "markdown",
   "metadata": {},
   "source": [
    "Una ecuación ligeramente distinta en apariencia, pero radicalmente distinta en comportamiento, de la ecuación de difusión es la siguiente ecuación de **reacción-difusión**; el primer término se puede considerar como modelando una reacción química local, o el crecimiento local de una población de animales:\n",
    "\n",
    "$$\\frac{\\partial u}{\\partial t} = u(1-u) + \\nabla^2 u.$$"
   ]
  },
  {
   "cell_type": "markdown",
   "metadata": {},
   "source": [
    "[1] Considera la ecuación de reacción-difusión en 1D. \n",
    "\n",
    "(i) Utiliza las condiciones de frontera particulares de Dirichlet siguientes: $u(0) = 1$ y $u(L) = 0$. Simula el sistema por bastante tiempo, pero dibuja sólo unas cuantas gráficas que ilustren toda la evolución (e.g. 10). ¿Qué observas?\n",
    "\n",
    "(ii) Ahora utiliza condiciones periódicas, con una condición inicial localizada y chica, es decir, como una delta, pero de magnitud chica, digamos 0.1. ¿Qué observas? ¿Cómo se relaciona con la pregunta (i)?\n",
    "\n",
    "(iii) ¿Qué concluyes acerca del comportamiento físico de este sistema? Interprétalo en el contexto de las reacciones o de los animales.\n",
    "\n",
    "[2] (i) Simula la ecuación en 2D con condiciones periódicas y una condición inicial que es una delta chiquita de nuevo. ¿Observas el mismo comportamiento físico?\n",
    "\n",
    "(ii) Utiliza una condición inicial que es 1 en un cuadrado chico. ¿Qué observas?\n",
    "\n",
    "(iii) ¿Qué conclusión general sacas acerca del comportamiento físico de esta ecuación y lo que modela?"
   ]
  }
 ],
 "metadata": {
  "kernelspec": {
   "display_name": "Julia 0.4.0",
   "language": "julia",
   "name": "julia-0.4"
  },
  "language_info": {
   "file_extension": ".jl",
   "mimetype": "application/julia",
   "name": "julia",
   "version": "0.4.0"
  }
 },
 "nbformat": 4,
 "nbformat_minor": 0
}
