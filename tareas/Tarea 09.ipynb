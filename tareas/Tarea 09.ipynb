{
 "cells": [
  {
   "cell_type": "markdown",
   "metadata": {},
   "source": [
    "# Tarea 9\n",
    "\n",
    "## Entrega: miércoles, 28 de octubre de 2015"
   ]
  },
  {
   "cell_type": "markdown",
   "metadata": {},
   "source": [
    "[1] Resuelve, usando diferencias finitas, la ecuación de difusión en 2D con ecuaciones periódicas de frontera.  ¿La condición de estabilidad (en términos de los parámetros $\\delta t$, $\\delta x$ y $\\delta y$) es la misma que en 1D?\n",
    "\n",
    "[2] Resuelve la versión 2D de la ecuación no-lineal de la tarea anterior:\n",
    "\n",
    "$$\\frac{\\partial u}{\\partial t} = u(1-u) + \\nabla^2 u,$$\n",
    "\n",
    "donde $u = u(x, y, t)$. Puedes utilizar condiciones periódicas de frontera. ¿Qué tipo de estructuras observas formarse?"
   ]
  }
 ],
 "metadata": {
  "kernelspec": {
   "display_name": "Julia 0.4.0",
   "language": "julia",
   "name": "julia-0.4"
  },
  "language_info": {
   "file_extension": ".jl",
   "mimetype": "application/julia",
   "name": "julia",
   "version": "0.4.0"
  }
 },
 "nbformat": 4,
 "nbformat_minor": 0
}
